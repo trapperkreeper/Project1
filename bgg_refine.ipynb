{
 "cells": [
  {
   "cell_type": "code",
   "execution_count": null,
   "metadata": {},
   "outputs": [],
   "source": [
    "import pandas as pd\n",
    "import ast"
   ]
  },
  {
   "cell_type": "code",
   "execution_count": null,
   "metadata": {},
   "outputs": [],
   "source": [
    "df = pd.read_csv('./data/bgg_stats_00001-10000.csv')\n",
    "df.head()"
   ]
  },
  {
   "cell_type": "code",
   "execution_count": null,
   "metadata": {},
   "outputs": [],
   "source": [
    "del df['thumbnail']\n",
    "del df['image']"
   ]
  },
  {
   "cell_type": "code",
   "execution_count": null,
   "metadata": {},
   "outputs": [],
   "source": [
    "# Function to parse cells containing strings that look like: \"{'@value': '1986'}\"\n",
    "def parse_value(cell):\n",
    "    try:\n",
    "        new_val = ast.literal_eval(cell)\n",
    "        new_val = new_val['@value']\n",
    "        new_val = int(new_val)\n",
    "    except:\n",
    "        new_val = None\n",
    "    return new_val\n",
    "\n",
    "# Function to parse the name -- can be a dict or list of dicts\n",
    "def parse_name(cell):\n",
    "    name = ast.literal_eval(cell)\n",
    "    if type(name) is list:\n",
    "        name = name[0]\n",
    "    return name['@value']"
   ]
  },
  {
   "cell_type": "code",
   "execution_count": null,
   "metadata": {},
   "outputs": [],
   "source": [
    "df2 = df.copy()\n",
    "cols = ['yearpublished', 'minplayers', 'maxplayers', 'playingtime', 'minplaytime', 'maxplaytime', 'minage']\n",
    "for col in cols:\n",
    "    df2[col] = df2[col].apply(parse_value)\n",
    "df2['name'] = df2['name'].apply(parse_name)\n",
    "df2.head()\n"
   ]
  }
 ],
 "metadata": {
  "kernelspec": {
   "display_name": "dev",
   "language": "python",
   "name": "python3"
  },
  "language_info": {
   "codemirror_mode": {
    "name": "ipython",
    "version": 3
   },
   "file_extension": ".py",
   "mimetype": "text/x-python",
   "name": "python",
   "nbconvert_exporter": "python",
   "pygments_lexer": "ipython3",
   "version": "3.10.13"
  }
 },
 "nbformat": 4,
 "nbformat_minor": 2
}
