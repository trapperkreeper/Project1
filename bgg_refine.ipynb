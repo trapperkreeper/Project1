{
 "cells": [
  {
   "cell_type": "markdown",
   "metadata": {},
   "source": [
    "# 1. Import libraries"
   ]
  },
  {
   "cell_type": "code",
   "execution_count": null,
   "metadata": {},
   "outputs": [],
   "source": [
    "import pandas as pd\n",
    "import ast\n",
    "import re"
   ]
  },
  {
   "cell_type": "markdown",
   "metadata": {},
   "source": [
    "# 2. Import raw data"
   ]
  },
  {
   "cell_type": "code",
   "execution_count": null,
   "metadata": {},
   "outputs": [],
   "source": [
    "# Read in the raw data\n",
    "df = pd.read_csv('./data/bgg_stats_all.csv', low_memory=False)\n",
    "len(df)"
   ]
  },
  {
   "cell_type": "code",
   "execution_count": null,
   "metadata": {},
   "outputs": [],
   "source": [
    "# Remove these links as we're not doing anything with them\n",
    "del df['thumbnail']\n",
    "del df['image']"
   ]
  },
  {
   "cell_type": "code",
   "execution_count": null,
   "metadata": {},
   "outputs": [],
   "source": [
    "# Function to parse cells containing strings that look like: \"{'@value': '1986'}\"\n",
    "def parse_value(cell):\n",
    "    try:\n",
    "        new_val = ast.literal_eval(cell)\n",
    "        new_val = new_val['@value']\n",
    "        new_val = int(new_val)\n",
    "    except:\n",
    "        new_val = pd.NA\n",
    "    return new_val\n",
    "\n",
    "# Function to parse the name -- can be a dict or list of dicts\n",
    "def parse_name(cell):\n",
    "    name = ast.literal_eval(cell)\n",
    "    if type(name) is list:\n",
    "        name = name[0]\n",
    "    return name['@value']"
   ]
  },
  {
   "cell_type": "markdown",
   "metadata": {},
   "source": [
    "# 3. Get publication year\n",
    "\n",
    "Parse publication year from \"yearpublished\", \"datepublished\", and \"releasedate\",\n",
    "and save it under \"year\"."
   ]
  },
  {
   "cell_type": "code",
   "execution_count": null,
   "metadata": {},
   "outputs": [],
   "source": [
    "# Get the year (published) of the board games by selecting the first available\n",
    "# from 'yearpublished', 'datepublished', and 'releasedate', in that order.\n",
    "df['isna_yearpublished'] = df['yearpublished'].isna()\n",
    "df['isna_datepublished'] = df['datepublished'].isna()\n",
    "df['isna_releasedate'] = df['releasedate'].isna()\n",
    "df['year_yearpublished'] = df.apply(\n",
    "    lambda row: pd.NA if row['isna_yearpublished'] else ast.literal_eval(row['yearpublished'])['@value'][0:4],\n",
    "    axis=1\n",
    ")\n",
    "df['year_datepublished'] = df.apply(\n",
    "    lambda row: pd.NA if row['isna_datepublished'] else ast.literal_eval(row['datepublished'])['@value'][0:4],\n",
    "    axis=1\n",
    ")\n",
    "df['year_releasedate'] = df.apply(\n",
    "    lambda row: pd.NA if row['isna_releasedate'] else ast.literal_eval(row['releasedate'])['@value'][0:4],\n",
    "    axis=1\n",
    ")\n",
    "df['year'] = (\n",
    "    df['year_yearpublished']\n",
    "        .combine_first(df['year_datepublished'])\n",
    "        .combine_first(df['year_releasedate'])\n",
    ")"
   ]
  },
  {
   "cell_type": "code",
   "execution_count": null,
   "metadata": {},
   "outputs": [],
   "source": [
    "# Clean up the year-related columns we no longer need\n",
    "del df['isna_yearpublished']\n",
    "del df['isna_datepublished']\n",
    "del df['isna_releasedate']\n",
    "del df['year_datepublished']\n",
    "del df['year_releasedate']\n",
    "del df['year_yearpublished']\n",
    "del df['yearpublished']\n",
    "del df['releasedate']\n",
    "del df['datepublished']\n",
    "\n",
    "df.info()"
   ]
  },
  {
   "cell_type": "markdown",
   "metadata": {},
   "source": [
    "# 4. Remove rows with incomplete data"
   ]
  },
  {
   "cell_type": "code",
   "execution_count": null,
   "metadata": {},
   "outputs": [],
   "source": [
    "df2 = df.copy()\n",
    "# We need year and link, which contains mechanics/category info (among others)\n",
    "# Drop any records that don't have either\n",
    "df2.dropna(subset=['year', 'link'], inplace=True)\n",
    "\n",
    "# Parse the name\n",
    "df2['name'] = df2['name'].apply(parse_name)\n",
    "\n",
    "# Convert year to int\n",
    "df2 = df2.astype({'year': int})\n",
    "len(df2)"
   ]
  },
  {
   "cell_type": "code",
   "execution_count": null,
   "metadata": {},
   "outputs": [],
   "source": [
    "# Filter down to just board games\n",
    "\n",
    "# All the @types\n",
    "# ['boardgame', 'boardgameexpansion', 'boardgameaccessory',\n",
    "#        'videogame', 'rpgitem', 'rpgissue', 'videogamecompilation',\n",
    "#        'videogameexpansion', 'boardgameissue']\n",
    "\n",
    "df2 = df2.loc[df2['@type'] == 'boardgame'].copy()\n",
    "df2.info()"
   ]
  },
  {
   "cell_type": "code",
   "execution_count": null,
   "metadata": {},
   "outputs": [],
   "source": [
    "# Parse the columns that are encoded as @key/@value dicts\n",
    "cols = ['minplayers', 'maxplayers', 'playingtime', 'minplaytime', 'maxplaytime', 'minage']\n",
    "for col in cols:\n",
    "    df2[col] = df2[col].apply(parse_value)\n",
    "df2.head()"
   ]
  },
  {
   "cell_type": "markdown",
   "metadata": {},
   "source": [
    "# 5. Extract metadata from the \"link\" field"
   ]
  },
  {
   "cell_type": "code",
   "execution_count": null,
   "metadata": {},
   "outputs": [],
   "source": [
    "# Extract the value(s) of the link item with the provided key into a list.\n",
    "# If the key isn't present, return an empty list.\n",
    "def parse_link(link, key):\n",
    "    link_list = ast.literal_eval(link)\n",
    "    if isinstance(link_list, dict):\n",
    "        if link_list['@type'] == key:\n",
    "            return [link_list['@value']]\n",
    "        return []\n",
    "    if isinstance(link_list, list):\n",
    "        filtered = list(\n",
    "            filter(lambda x: x['@type'] == key,\n",
    "            link_list\n",
    "        ))\n",
    "        return list(map(lambda x: x['@value'], filtered))\n",
    "    return []\n",
    "\n",
    "# Use parse_link to extract the category, mechanic, family, implementation,\n",
    "# designer, artist, and publisher.\n",
    "df2['categories'] = df2['link'].apply(lambda x: parse_link(x, 'boardgamecategory'))\n",
    "df2['mechanics'] = df2['link'].apply(lambda x: parse_link(x, 'boardgamemechanic'))\n",
    "df2['family'] = df2['link'].apply(lambda x: parse_link(x, 'boardgamefamily'))\n",
    "df2['implementation'] = df2['link'].apply(lambda x: parse_link(x, 'boardgameimplementation'))\n",
    "df2['designer'] = df2['link'].apply(lambda x: parse_link(x, 'boardgamedesigner'))\n",
    "df2['artist'] = df2['link'].apply(lambda x: parse_link(x, 'boardgameartist'))\n",
    "df2['publisher'] = df2['link'].apply(lambda x: parse_link(x, 'boardgamepublisher'))\n",
    "\n",
    "df2.head()"
   ]
  },
  {
   "cell_type": "code",
   "execution_count": null,
   "metadata": {},
   "outputs": [],
   "source": [
    "# Export the results to cleaned.csv\n",
    "df2.to_csv('data/cleaned.csv', index=False)"
   ]
  },
  {
   "cell_type": "markdown",
   "metadata": {},
   "source": [
    "# 6. Group similar categories and mechanics\n",
    "\n",
    "Start with a fresh import of cleaned.csv so we can run this without the\n",
    "rest of the notebook as a dependency"
   ]
  },
  {
   "cell_type": "code",
   "execution_count": null,
   "metadata": {},
   "outputs": [],
   "source": [
    "cleaned_df = pd.read_csv('data/cleaned.csv')\n",
    "cleaned_df"
   ]
  },
  {
   "cell_type": "code",
   "execution_count": null,
   "metadata": {},
   "outputs": [],
   "source": [
    "# Convert categories and mechanics from strings to lists\n",
    "cleaned_df['categories'] = cleaned_df['categories']\\\n",
    "    .apply(lambda x: ast.literal_eval(x))\n",
    "\n",
    "cleaned_df['mechanics'] = cleaned_df['mechanics']\\\n",
    "    .apply(lambda x: ast.literal_eval(x))"
   ]
  },
  {
   "cell_type": "code",
   "execution_count": null,
   "metadata": {},
   "outputs": [],
   "source": [
    "# Define functions for grouping\n",
    "def group_war(categories):\n",
    "    if isinstance(categories, str):\n",
    "        listval = ast.literal_eval(categories)\n",
    "    elif isinstance(categories, list):\n",
    "        listval = categories\n",
    "    listval = list(map(\n",
    "        lambda x: re.sub('^.*War.*$', 'War', x),\n",
    "        listval\n",
    "    ))\n",
    "    return listval\n",
    "\n",
    "def group_value(values, old_value, new_value):\n",
    "    if isinstance(values, str):\n",
    "        listval = ast.literal_eval(values)\n",
    "    elif isinstance(values, list):\n",
    "        listval = values\n",
    "    listval = list(map(\n",
    "        lambda x: x.replace(old_value, new_value),\n",
    "        listval\n",
    "    ))\n",
    "    return listval\n",
    "\n",
    "# Define mappings for category and mechanic groups\n",
    "category_mappings = [\n",
    "    ('Historical Setting', 'American West'),\n",
    "    ('Historical Setting', 'Ancient'),\n",
    "    ('Historical Setting', 'Medieval'),\n",
    "    ('Historical Setting', 'Napoleonic'),\n",
    "    ('Historical Setting', 'Post-Napoleonic'),\n",
    "    ('Historical Setting', 'Prehistoric'),\n",
    "    ('Historical Setting', 'Renaissance'),\n",
    "    ('Bluffing / Negotiation', 'Bluffing'),\n",
    "    ('Bluffing / Negotiation', 'Negotiation'),\n",
    "    ('Books', 'Book'),\n",
    "    ('Books', 'Comic Book / Strip'),\n",
    "    ('Books', 'Novel-based'),\n",
    "    ('Economy / Industry', 'Economic'),\n",
    "    ('Economy / Industry', 'Farming'),\n",
    "    ('Economy / Industry', 'Industry / Manufacturing')\n",
    "]\n",
    "\n",
    "mechanics_mappings = [\n",
    "    ('Auction', 'Auction: Once Around'),\n",
    "    ('Auction', 'Closed Economy Auction'),\n",
    "    ('Auction', 'Constrained Bidding'),\n",
    "    ('Auction', 'Auction/Bidding'),\n",
    "    ('Auction', 'Auction: Dutch Priority'),\n",
    "    ('Auction', 'Auction: Dutch'),\n",
    "    ('Auction', 'Auction: English'),\n",
    "    ('Auction', 'Auction: Sealed Bid'),\n",
    "    ('Auction', 'Auction: Turn Order Until Pass'),\n",
    "    ('Auction', 'Auction: Multiple Lot'),\n",
    "    ('Auction', 'Turn Order: Auction'),\n",
    "    ('Auction', 'Auction Compensation'),\n",
    "    ('Auction', 'Auction: Fixed Placement'),\n",
    "    ('Auction', 'Auction: Dexterity'),\n",
    "    ('Drafting', 'Action Drafting'),\n",
    "    ('Drafting', 'Closed Drafting'),\n",
    "    ('Drafting', 'Open Drafting'),\n",
    "    ('Grid-Based', 'Hexagon Grid'),\n",
    "    ('Grid-Based', 'Square Grid'),\n",
    "    ('Grid-Based', 'Grid Movement')\n",
    "]"
   ]
  },
  {
   "cell_type": "code",
   "execution_count": null,
   "metadata": {},
   "outputs": [],
   "source": [
    "# Replace categories and mechanics with their broader classifications\n",
    "cleaned_df['categories'] = cleaned_df['categories'].apply(group_war)\n",
    "\n",
    "for mapping in category_mappings:\n",
    "    cleaned_df['categories'] = cleaned_df['categories'].apply(\n",
    "        lambda x: group_value(x, mapping[1], mapping[0])\n",
    "    )\n",
    "\n",
    "for mapping in mechanics_mappings:\n",
    "    cleaned_df['mechanics'] = cleaned_df['mechanics'].apply(\n",
    "        lambda x: group_value(x, mapping[1], mapping[0])\n",
    "    )\n",
    "\n",
    "# Remove duplicates\n",
    "cleaned_df['categories'] = cleaned_df['categories'].apply(\n",
    "    lambda x: list(set(x))\n",
    ")\n",
    "\n",
    "cleaned_df['mechanics'] = cleaned_df['mechanics'].apply(\n",
    "    lambda x: list(set(x))\n",
    ")"
   ]
  },
  {
   "cell_type": "code",
   "execution_count": null,
   "metadata": {},
   "outputs": [],
   "source": [
    "# Export the results to cleaned2.csv\n",
    "cleaned_df.to_csv('data/cleaned2.csv', index=False)"
   ]
  }
 ],
 "metadata": {
  "kernelspec": {
   "display_name": "dev",
   "language": "python",
   "name": "python3"
  },
  "language_info": {
   "codemirror_mode": {
    "name": "ipython",
    "version": 3
   },
   "file_extension": ".py",
   "mimetype": "text/x-python",
   "name": "python",
   "nbconvert_exporter": "python",
   "pygments_lexer": "ipython3",
   "version": "3.10.13"
  }
 },
 "nbformat": 4,
 "nbformat_minor": 2
}
