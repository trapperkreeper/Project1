{
 "cells": [
  {
   "cell_type": "code",
   "execution_count": 1,
   "id": "75b5004d",
   "metadata": {},
   "outputs": [],
   "source": [
    "import pandas as pd\n",
    "import ast\n",
    "import matplotlib.pyplot as plt\n",
    "import numpy as np"
   ]
  },
  {
   "cell_type": "code",
   "execution_count": null,
   "id": "9f21727e",
   "metadata": {},
   "outputs": [],
   "source": [
    "lang_df = pd.read_csv('../data/language_vote_details.csv', low_memory=False)\n",
    "df = pd.read_csv('../data/cleaned2.csv', low_memory=False)\n",
    "ranks = pd.read_csv('../data/boardgames_ranks.csv', low_memory=False)\n",
    "\n",
    "df['categories'] = df['categories']\\\n",
    "    .apply(lambda x: ast.literal_eval(x))\n",
    "df['mechanics'] = df['mechanics']\\\n",
    "    .apply(lambda x: ast.literal_eval(x))"
   ]
  },
  {
   "cell_type": "code",
   "execution_count": null,
   "id": "f8e6b1ca",
   "metadata": {},
   "outputs": [],
   "source": [
    "ranks.rename(columns={\"id\":\"@id\"}, inplace = True)\n",
    "lang_df.rename(columns={\"Language Dependency\": \"lang\"}, inplace = True)\n",
    "\n",
    "df.head(1)"
   ]
  },
  {
   "cell_type": "markdown",
   "id": "75ac7046",
   "metadata": {},
   "source": [
    "# **Analyses of Language Dependencies for Boardgames**\n",
    "\n",
    "**Objective:** \n",
    "\n",
    "Assessment of boardgames available on Boardgame Geek API (BGG) to determine trends concerning language dependencies for game categories, game mechanics and rankings. Following sections prepare the relevant data and plot trends."
   ]
  },
  {
   "cell_type": "markdown",
   "id": "4cab3248",
   "metadata": {},
   "source": [
    "## **Part 1: Metrics for Game Titles, Rankings, and Language Dependencies**\n",
    "\n",
    "### **1A. Data Prep**"
   ]
  },
  {
   "cell_type": "code",
   "execution_count": null,
   "id": "e54b808c",
   "metadata": {},
   "outputs": [],
   "source": [
    "# Data prep. Creating df containing columns for id, name, year, language, ranks \n",
    "\n",
    "merge_df = pd.merge(df[[\"@id\", \"name\" , \"year\"]], ranks[[\"@id\",\"rank\"]], on = \"@id\", how = \"inner\")\n",
    "games_df = pd.merge(merge_df, lang_df[[\"@id\",\"lang\"]], on = \"@id\", how = \"inner\")   \n",
    "\n",
    "games = games_df.copy()\n",
    "games.dropna(inplace = True)\n",
    "display(games.head(2))"
   ]
  },
  {
   "cell_type": "code",
   "execution_count": null,
   "id": "7f1c6452",
   "metadata": {},
   "outputs": [],
   "source": [
    "# bin by decade\n",
    "bins = [1960, 1970, 1980, 1990, 2000, 2010, 2020, 2030]\n",
    "labels = [\"1960s\", \"1970s\", \"1980s\", \"1990s\", \"2000s\", \"2010s\", \"2020s\"]\n",
    "games[\"decade\"] = pd.cut(games[\"year\"], bins = bins, labels = labels, right = False)\n",
    "\n",
    "\n",
    "#display df output and some ranking info\n",
    "no_rank = (games[\"rank\"] != 0).sum()\n",
    "display(games.head())\n",
    "print(f\"Number of games that have rankings: {no_rank}\")\n",
    "print(f\"Lowest game ranking is: {games['rank'].max()}\")"
   ]
  },
  {
   "cell_type": "code",
   "execution_count": null,
   "id": "1f041aa2",
   "metadata": {},
   "outputs": [],
   "source": [
    "# add columns for grouped game ranks (e.g. games ranked 1 - 100, games ranked 101-500, etc)\n",
    "\n",
    "def rank_groups(value, label):\n",
    "    if value == \"\":\n",
    "        return pd.NA\n",
    "    value = int(value)\n",
    "    \n",
    "    if label == grouped_rankings[0] and value <= 100:\n",
    "        return \"True\"\n",
    "    elif label == grouped_rankings[1] and value >= 101 and value <= 500:\n",
    "        return \"True\"\n",
    "    elif label == grouped_rankings[2] and value >= 501 and value <= 1000:\n",
    "        return \"True\"\n",
    "    elif label == grouped_rankings[3] and value >= 1001 and value <= 2500:\n",
    "        return \"True\"\n",
    "    elif label == grouped_rankings[4] and value >= 2501 and value <= 4999:\n",
    "        return \"True\"\n",
    "    elif label == grouped_rankings[5] and value > 5000:\n",
    "        return \"True\"\n",
    "    else:\n",
    "        return pd.NA\n",
    "\n",
    "grouped_rankings = [\"1 - 100\", \"101-500\",\"501 - 1000\", \"1001 - 2500\", \"2501 - 4999\", \"5000+\"]\n",
    "\n",
    "\n",
    "for label in grouped_rankings:\n",
    "    games[label] = games[\"rank\"].apply(lambda row: rank_groups(row, label))\n",
    "    \n",
    "    \n",
    "games"
   ]
  },
  {
   "cell_type": "code",
   "execution_count": null,
   "id": "bb6e134d",
   "metadata": {},
   "outputs": [],
   "source": [
    "games = games.convert_dtypes()"
   ]
  },
  {
   "cell_type": "code",
   "execution_count": null,
   "id": "be7e12b2",
   "metadata": {},
   "outputs": [],
   "source": [
    "#creating df for games that have been ranked, non ranked were dropped\n",
    "\n",
    "drop_zero = games[\"rank\"] == 0\n",
    "games_rankings = games.drop(games[drop_zero].index)\n"
   ]
  },
  {
   "cell_type": "markdown",
   "id": "aab97eba",
   "metadata": {},
   "source": [
    "### **1B. Pivots and Plots**"
   ]
  },
  {
   "cell_type": "code",
   "execution_count": null,
   "id": "366100d0",
   "metadata": {},
   "outputs": [],
   "source": [
    "#Pivoted to see if anything interesting regarding language dependencies and game popularity (grouped by rankings groups)\n",
    "\n",
    "rankings_vs_lang = pd.pivot_table(games_rankings, \n",
    "                                index = 'lang', \n",
    "                                values = [\"1 - 100\", \"101-500\",\"501 - 1000\", \"1001 - 2500\", \"2501 - 4999\", \"5000+\"],\n",
    "                                aggfunc='count')\n",
    "\n",
    "rankings_vs_lang = rankings_vs_lang[grouped_rankings]\n",
    "\n",
    "#updated the table's values to percentages.\n",
    "\n",
    "def convert_to_percent(col):\n",
    "    total_sum = col.sum()\n",
    "    return col / total_sum\n",
    "\n",
    "rankings_vs_lang_perc = rankings_vs_lang.apply(convert_to_percent) \n",
    "\n",
    "display(rankings_vs_lang_perc)"
   ]
  },
  {
   "cell_type": "code",
   "execution_count": null,
   "id": "3ea7d59a",
   "metadata": {},
   "outputs": [],
   "source": [
    "#setting up df info for plotting\n",
    "\n",
    "perc_fully = rankings_vs_lang_perc.iloc[1,:].tolist()\n",
    "perc_extensively = rankings_vs_lang_perc.iloc[0,:].tolist()\n",
    "perc_moderately = rankings_vs_lang_perc.iloc[2,:].tolist()\n",
    "perc_somewhat = rankings_vs_lang_perc.iloc[4,:].tolist()\n",
    "perc_not_dependent = rankings_vs_lang_perc.iloc[3,:].tolist()\n",
    "\n",
    "bar_width = 0.1\n",
    "\n",
    "# note chatgpt assisted code for ticks and bar positioning.\n",
    "x_positions = [i for i in range(len(grouped_rankings))]\n",
    "\n",
    "# plotting the bars graph\n",
    "fig, ax = plt.subplots(figsize=(10, 6))\n",
    "\n",
    "ax.bar([pos - 2*bar_width for pos in x_positions], perc_fully, bar_width, label=\"05 - Fully Language Dependent\")\n",
    "ax.bar([pos - bar_width for pos in x_positions], perc_extensively, bar_width, label='04 - Extensively Language Dependent')\n",
    "ax.bar(x_positions, perc_moderately, bar_width, label='03 - Moderately Language Dependent')\n",
    "ax.bar([pos + bar_width for pos in x_positions], perc_somewhat, bar_width, label='02 - Somewhat Language Dependent')\n",
    "ax.bar([pos + 2*bar_width for pos in x_positions], perc_not_dependent, bar_width, label='01 - Not Language Dependent')\n",
    "\n",
    "\n",
    "# adding the labels and title\n",
    "ax.set_xlabel('Game Rankings')\n",
    "ax.set_ylabel('Percentage')\n",
    "ax.set_title(\"Language Dependencies of Top Games\")\n",
    "ax.legend(loc=\"lower left\", bbox_to_anchor=(1, 0))\n",
    "\n",
    "plt.xticks(x_positions, grouped_rankings)\n",
    "\n",
    "# Show the plot\n",
    "plt.show()"
   ]
  },
  {
   "cell_type": "code",
   "execution_count": null,
   "id": "a49746c1",
   "metadata": {},
   "outputs": [],
   "source": [
    "#plot lang and decades\n",
    "lang_decades = games[[\"lang\", \"decade\"]].copy()\n",
    "lang_options = lang_decades[\"lang\"].unique()\n",
    "\n",
    "lang_vs_dec = pd.pivot_table(lang_decades, \n",
    "                                index = 'lang', \n",
    "                                columns = \"decade\",\n",
    "                                aggfunc='size')\n",
    "\n",
    "lang_vs_dec_perc = lang_vs_dec.apply(convert_to_percent).round(2)\n",
    "display(lang_vs_dec_perc)\n",
    "lang_vs_dec.plot()"
   ]
  },
  {
   "cell_type": "code",
   "execution_count": null,
   "id": "89aeda70",
   "metadata": {},
   "outputs": [],
   "source": [
    "#plot number of games and lang dependency\n",
    "\n",
    "lang_vsgames = pd.pivot_table(lang_decades, \n",
    "                                columns = 'lang', \n",
    "                                aggfunc='size')\n",
    "\n",
    "lang_games_df = lang_vsgames.reset_index(name=\"no of games\")\n",
    "\n",
    "total_games = lang_games_df[\"no of games\"].sum()\n",
    "\n",
    "lang_games_df[\"percent\"] = (lang_games_df[\"no of games\"]/total_games).round(2)\n",
    "\n",
    "display(lang_games_df)"
   ]
  },
  {
   "cell_type": "code",
   "execution_count": null,
   "id": "f959a585",
   "metadata": {},
   "outputs": [],
   "source": [
    "#plot lang dependency vs categories"
   ]
  },
  {
   "cell_type": "code",
   "execution_count": null,
   "id": "4968dc88",
   "metadata": {},
   "outputs": [],
   "source": [
    "cat_merge_df = pd.merge(games_df[[\"@id\", \"name\" , \"year\", \"lang\"]], df[[\"@id\",\"categories\", \"mechanics\"]], on = \"@id\", how = \"inner\")"
   ]
  },
  {
   "cell_type": "code",
   "execution_count": null,
   "id": "0801d8ff",
   "metadata": {},
   "outputs": [],
   "source": [
    "def metric_by_year(data, metric):\n",
    "    new_df = data[['lang', metric]].copy()\n",
    "    new_df = new_df.explode(metric).reset_index(drop=True)\n",
    "    return new_df\n",
    "    \n",
    "lang_cats = metric_by_year(cat_merge_df, 'categories')\n",
    "lang_mechs = metric_by_year(cat_merge_df, 'mechanics')\n",
    "display(lang_cats.head())\n",
    "lang_mechs.head()\n"
   ]
  },
  {
   "cell_type": "code",
   "execution_count": null,
   "id": "80150e11",
   "metadata": {},
   "outputs": [],
   "source": [
    "lang_vscats = pd.pivot_table(lang_cats, \n",
    "                              index = \"categories\",\n",
    "                                columns = 'lang', \n",
    "                                aggfunc='size')\n",
    "\n",
    "display(lang_vscats)\n",
    "lang_vscats_perc = lang_vscats.apply(convert_to_percent).round(2)\n",
    "lang_vscats_perc"
   ]
  },
  {
   "cell_type": "code",
   "execution_count": null,
   "id": "4214d135",
   "metadata": {},
   "outputs": [],
   "source": [
    "lang_vsmech = pd.pivot_table(lang_mechs, \n",
    "                              index = \"mechanics\",\n",
    "                                columns = 'lang', \n",
    "                                aggfunc='size')\n",
    "\n",
    "display(lang_vsmech)\n",
    "lang_vsmech_perc = lang_vsmech.apply(convert_to_percent).round(2)\n",
    "lang_vsmech_perc"
   ]
  }
 ],
 "metadata": {
  "kernelspec": {
   "display_name": "Python 3 (ipykernel)",
   "language": "python",
   "name": "python3"
  },
  "language_info": {
   "codemirror_mode": {
    "name": "ipython",
    "version": 3
   },
   "file_extension": ".py",
   "mimetype": "text/x-python",
   "name": "python",
   "nbconvert_exporter": "python",
   "pygments_lexer": "ipython3",
   "version": "3.10.13"
  }
 },
 "nbformat": 4,
 "nbformat_minor": 5
}
