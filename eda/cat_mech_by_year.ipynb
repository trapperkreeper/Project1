{
 "cells": [
  {
   "cell_type": "code",
   "execution_count": null,
   "metadata": {},
   "outputs": [],
   "source": [
    "import pandas as pd\n",
    "import ast"
   ]
  },
  {
   "cell_type": "code",
   "execution_count": null,
   "metadata": {},
   "outputs": [],
   "source": [
    "df = pd.read_csv('../data/cleaned2.csv', low_memory=False)\n",
    "df['categories'] = df['categories']\\\n",
    "    .apply(lambda x: ast.literal_eval(x))\n",
    "df['mechanics'] = df['mechanics']\\\n",
    "    .apply(lambda x: ast.literal_eval(x))\n",
    "df.head()"
   ]
  },
  {
   "cell_type": "code",
   "execution_count": null,
   "metadata": {},
   "outputs": [],
   "source": [
    "def metric_by_year(data, metric):\n",
    "    new_df = data[['year', metric]].copy()\n",
    "    new_df = new_df.explode(metric).reset_index(drop=True)\n",
    "    return new_df\n",
    "    \n",
    "cats_by_year = metric_by_year(df, 'categories')\n",
    "mechs_by_year = metric_by_year(df, 'mechanics')\n",
    "display(cats_by_year.head())\n",
    "mechs_by_year.head()\n"
   ]
  },
  {
   "cell_type": "code",
   "execution_count": null,
   "metadata": {},
   "outputs": [],
   "source": [
    "# Order metrics in descending order so we know which might be the interesting\n",
    "# values to plot\n",
    "def get_counts(data, metric):\n",
    "    new_df = data[[metric]]\n",
    "    new_df['val'] = 1\n",
    "    new_df = new_df.groupby(metric).sum()\n",
    "    return new_df\n",
    "\n",
    "cat_counts = get_counts(cats_by_year, 'categories')\n",
    "mech_counts = get_counts(mechs_by_year, 'mechanics')\n",
    "display(cat_counts.sort_values('val', ascending=False).head(20))\n",
    "display(mech_counts.sort_values('val', ascending=False).head(20))"
   ]
  },
  {
   "cell_type": "code",
   "execution_count": null,
   "metadata": {},
   "outputs": [],
   "source": [
    "# Pivot the yearly data so it's plottable, and limit to years 1960-2023\n",
    "def pivot(data, metric):\n",
    "    new_df = data.copy()\n",
    "    new_df['val'] = 1\n",
    "    new_df = new_df.pivot_table(index='year', columns=metric, values='val', aggfunc='sum', fill_value=0)\n",
    "    new_df = new_df.loc[new_df.index >= 1960].copy()\n",
    "    new_df = new_df.loc[new_df.index < 2024].copy()\n",
    "    return new_df\n",
    "\n",
    "# Pivot and plot categories\n",
    "cat_pivot = pivot(cats_by_year, 'categories')\n",
    "cat_pivot[[\n",
    "    'Card Game', 'War', \"Children's Game\", 'Party Game', 'Dice',\n",
    "    'Abstract Strategy', 'Fantasy', 'Historical Setting', 'Educational',\n",
    "    'Economy / Industry', 'Bluffing / Negotiation', 'Print & Play'\n",
    "]].plot(title='Game Categories by Publication Year')\n",
    "\n",
    "# Pivot and plot mechanics\n",
    "mech_pivot = pivot(mechs_by_year, 'mechanics')\n",
    "mech_pivot[[\n",
    "    'Dice Rolling', 'Roll / Spin and Move', 'Hand Management', 'Set Collection',\n",
    "    'Drafting', 'Simulation', 'Variable Player Powers', 'Cooperative Game',\n",
    "    'Cooperative Game', 'Tile Placement', 'Grid-Based'\n",
    "]].plot(title='Game Mechanics by Publication Year')"
   ]
  }
 ],
 "metadata": {
  "kernelspec": {
   "display_name": "dev",
   "language": "python",
   "name": "python3"
  },
  "language_info": {
   "codemirror_mode": {
    "name": "ipython",
    "version": 3
   },
   "file_extension": ".py",
   "mimetype": "text/x-python",
   "name": "python",
   "nbconvert_exporter": "python",
   "pygments_lexer": "ipython3",
   "version": "3.10.13"
  }
 },
 "nbformat": 4,
 "nbformat_minor": 2
}
