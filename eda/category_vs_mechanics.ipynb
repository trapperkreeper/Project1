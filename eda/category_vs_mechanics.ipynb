{
 "cells": [
  {
   "cell_type": "markdown",
   "metadata": {},
   "source": [
    "# 1. Install/Import required libraries"
   ]
  },
  {
   "cell_type": "code",
   "execution_count": null,
   "metadata": {},
   "outputs": [],
   "source": [
    "#!pip install seaborn\n",
    "\n",
    "import pandas as pd\n",
    "import ast\n",
    "import seaborn as sns"
   ]
  },
  {
   "cell_type": "markdown",
   "metadata": {},
   "source": [
    "# 2. Import data"
   ]
  },
  {
   "cell_type": "code",
   "execution_count": null,
   "metadata": {},
   "outputs": [],
   "source": [
    "# Import cleaned dataset\n",
    "df = pd.read_csv('../data/cleaned2.csv')\n",
    "df['categories'] = df['categories']\\\n",
    "    .apply(lambda x: ast.literal_eval(x))\n",
    "df['mechanics'] = df['mechanics']\\\n",
    "    .apply(lambda x: ast.literal_eval(x))\n",
    "df.head()"
   ]
  },
  {
   "cell_type": "markdown",
   "metadata": {},
   "source": [
    "# 3. Investigate Relationship Between Game Categories and Game Mechanics\n",
    "\n",
    "## 3.1. Plot heatmap of categories vs mechanics"
   ]
  },
  {
   "cell_type": "code",
   "execution_count": null,
   "metadata": {},
   "outputs": [],
   "source": [
    "exploded_subset = df[['categories', 'mechanics']]\\\n",
    "    .copy()\\\n",
    "    .explode('categories')\\\n",
    "    .explode('mechanics')\\\n",
    "    .reset_index(drop=True)\\\n",
    "    .dropna()\n",
    "\n",
    "# Create a matrix with categories on one axis, and mechanics on the other.\n",
    "# Cell values are the number of occurrences.\n",
    "exploded_subset['val'] = 1\n",
    "matrix = exploded_subset.pivot_table(index='categories', columns='mechanics', values='val', aggfunc='sum', fill_value=0)\n",
    "matrix\n",
    "sns.heatmap(matrix)"
   ]
  },
  {
   "cell_type": "markdown",
   "metadata": {},
   "source": [
    "## 3.2. Impose a minimum threshold of 1500\n",
    "\n",
    "Drop all rows/columns that don't have a max value of 1500+"
   ]
  },
  {
   "cell_type": "code",
   "execution_count": null,
   "metadata": {},
   "outputs": [],
   "source": [
    "# Remove categories and mechanics that do not have a max value of at least 1500\n",
    "threshold = 1500\n",
    "matrix_filtered = matrix.copy()\n",
    "for col in matrix_filtered.columns:\n",
    "    if matrix_filtered[col].max() < threshold:\n",
    "        matrix_filtered.drop([col], axis='columns', inplace=True)\n",
    "for row in matrix_filtered.index:\n",
    "    if matrix_filtered.loc[row].max() < threshold:\n",
    "        matrix_filtered.drop([row], axis='index', inplace=True)\n",
    "\n",
    "hm = sns.heatmap(matrix_filtered);\n",
    "_ = hm.set_xticklabels(hm.get_xticklabels(), rotation=45, ha='right')\n"
   ]
  }
 ],
 "metadata": {
  "kernelspec": {
   "display_name": "dev",
   "language": "python",
   "name": "python3"
  },
  "language_info": {
   "codemirror_mode": {
    "name": "ipython",
    "version": 3
   },
   "file_extension": ".py",
   "mimetype": "text/x-python",
   "name": "python",
   "nbconvert_exporter": "python",
   "pygments_lexer": "ipython3",
   "version": "3.10.13"
  }
 },
 "nbformat": 4,
 "nbformat_minor": 2
}
