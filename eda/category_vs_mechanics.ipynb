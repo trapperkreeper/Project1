{
 "cells": [
  {
   "cell_type": "code",
   "execution_count": null,
   "metadata": {},
   "outputs": [],
   "source": [
    "#!pip install seaborn\n",
    "\n",
    "import pandas as pd\n",
    "import ast\n",
    "import seaborn as sns\n",
    "import re\n",
    "import matplotlib.pyplot as plt"
   ]
  },
  {
   "cell_type": "code",
   "execution_count": null,
   "metadata": {},
   "outputs": [],
   "source": [
    "# Import cleaned dataset\n",
    "df = pd.read_csv('../data/cleaned.csv')\n",
    "len(df)"
   ]
  },
  {
   "cell_type": "markdown",
   "metadata": {},
   "source": [
    "# Investigate Relationship Between Game Categories and Game Mechanics"
   ]
  },
  {
   "cell_type": "code",
   "execution_count": null,
   "metadata": {},
   "outputs": [],
   "source": [
    "# Extract just the categories and mechanics columns for this analysis\n",
    "cat_mech_df = df[['categories', 'mechanics']]\\\n",
    "    .copy()\\\n",
    "    .dropna()\\\n",
    "    .reset_index(drop=True)\n",
    "cat_mech_df.info()"
   ]
  },
  {
   "cell_type": "code",
   "execution_count": null,
   "metadata": {},
   "outputs": [],
   "source": [
    "# Group categories into broader ones\n",
    "\n",
    "def group_war(categories):\n",
    "    if isinstance(categories, str):\n",
    "        listval = ast.literal_eval(categories)\n",
    "    elif isinstance(categories, list):\n",
    "        listval = categories\n",
    "    listval = list(map(\n",
    "        lambda x: re.sub('^.*War.*$', 'War', x),\n",
    "        listval\n",
    "    ))\n",
    "    return listval\n",
    "\n",
    "def group_value(values, old_value, new_value):\n",
    "    if isinstance(values, str):\n",
    "        listval = ast.literal_eval(values)\n",
    "    elif isinstance(values, list):\n",
    "        listval = values\n",
    "    listval = list(map(\n",
    "        lambda x: x.replace(old_value, new_value),\n",
    "        listval\n",
    "    ))\n",
    "    return listval\n",
    "\n",
    "cat_mech_df['categories'] = cat_mech_df['categories'].apply(\n",
    "    group_war\n",
    ")\n",
    "\n",
    "category_mappings = [\n",
    "    ('Historical Setting', 'American West'),\n",
    "    ('Historical Setting', 'Ancient'),\n",
    "    ('Historical Setting', 'Medieval'),\n",
    "    ('Historical Setting', 'Napoleonic'),\n",
    "    ('Historical Setting', 'Post-Napoleonic'),\n",
    "    ('Historical Setting', 'Prehistoric'),\n",
    "    ('Historical Setting', 'Renaissance'),\n",
    "    ('Bluffing / Negotiation', 'Bluffing'),\n",
    "    ('Bluffing / Negotiation', 'Negotiation'),\n",
    "    ('Books', 'Book'),\n",
    "    ('Books', 'Comic Book / Strip'),\n",
    "    ('Books', 'Novel-based'),\n",
    "    ('Economy / Industry', 'Economic'),\n",
    "    ('Economy / Industry', 'Farming'),\n",
    "    ('Economy / Industry', 'Industry / Manufacturing')\n",
    "]\n",
    "\n",
    "for mapping in category_mappings:\n",
    "    cat_mech_df['categories'] = cat_mech_df['categories'].apply(\n",
    "        lambda x: group_value(x, mapping[1], mapping[0])\n",
    "    )\n",
    "\n",
    "# Remove duplciates\n",
    "cat_mech_df['categories'] = cat_mech_df['categories'].apply(\n",
    "    lambda x: list(set(x))\n",
    ")\n",
    "\n",
    "cat_mech_df.head()"
   ]
  },
  {
   "cell_type": "code",
   "execution_count": null,
   "metadata": {},
   "outputs": [],
   "source": [
    "# Group mechanics into broader ones\n",
    "\n",
    "mechanics_mappings = [\n",
    "    ('Auction', 'Auction: Once Around'),\n",
    "    ('Auction', 'Closed Economy Auction'),\n",
    "    ('Auction', 'Constrained Bidding'),\n",
    "    ('Auction', 'Auction/Bidding'),\n",
    "    ('Auction', 'Auction: Dutch Priority'),\n",
    "    ('Auction', 'Auction: Dutch'),\n",
    "    ('Auction', 'Auction: English'),\n",
    "    ('Auction', 'Auction: Sealed Bid'),\n",
    "    ('Auction', 'Auction: Turn Order Until Pass'),\n",
    "    ('Auction', 'Auction: Multiple Lot'),\n",
    "    ('Auction', 'Turn Order: Auction'),\n",
    "    ('Auction', 'Auction Compensation'),\n",
    "    ('Auction', 'Auction: Fixed Placement'),\n",
    "    ('Auction', 'Auction: Dexterity'),\n",
    "    ('Drafting', 'Action Drafting'),\n",
    "    ('Drafting', 'Closed Drafting'),\n",
    "    ('Drafting', 'Open Drafting'),\n",
    "    ('Grid-Based', 'Hexagon Grid'),\n",
    "    ('Grid-Based', 'Square Grid'),\n",
    "    ('Grid-Based', 'Grid Movement')\n",
    "]\n",
    "\n",
    "for mapping in mechanics_mappings:\n",
    "    cat_mech_df['mechanics'] = cat_mech_df['mechanics'].apply(\n",
    "        lambda x: group_value(x, mapping[1], mapping[0])\n",
    "    )\n",
    "\n",
    "# Remove duplciates\n",
    "cat_mech_df['mechanics'] = cat_mech_df['mechanics'].apply(\n",
    "    lambda x: list(set(x))\n",
    ")\n",
    "\n",
    "cat_mech_df.head()"
   ]
  },
  {
   "cell_type": "code",
   "execution_count": null,
   "metadata": {},
   "outputs": [],
   "source": [
    "# exploded_subset = cat_mech_df.copy()\n",
    "exploded_subset = cat_mech_df\\\n",
    "    .copy()\\\n",
    "    .explode('categories')\\\n",
    "    .explode('mechanics')\\\n",
    "    .reset_index(drop=True)\\\n",
    "    .dropna()\n",
    "\n",
    "# Create a matrix with categories on one axis, and mechanics on the other.\n",
    "# Cell values are the number of occurrences.\n",
    "exploded_subset['val'] = 1\n",
    "matrix = exploded_subset.pivot_table(index='categories', columns='mechanics', values='val', aggfunc='sum', fill_value=0)\n",
    "matrix\n",
    "sns.heatmap(matrix)"
   ]
  },
  {
   "cell_type": "markdown",
   "metadata": {},
   "source": [
    "## Impose a minimum threshold of 1500\n",
    "\n",
    "Drop all rows/columns that don't have a max value of 1500+"
   ]
  },
  {
   "cell_type": "code",
   "execution_count": null,
   "metadata": {},
   "outputs": [],
   "source": [
    "# Remove categories and mechanics that do not have a max value of at least 1500\n",
    "threshold = 1500\n",
    "matrix_filtered = matrix.copy()\n",
    "for col in matrix_filtered.columns:\n",
    "    if matrix_filtered[col].max() < threshold:\n",
    "        matrix_filtered.drop([col], axis='columns', inplace=True)\n",
    "for row in matrix_filtered.index:\n",
    "    if matrix_filtered.loc[row].max() < threshold:\n",
    "        matrix_filtered.drop([row], axis='index', inplace=True)\n",
    "\n",
    "hm = sns.heatmap(matrix_filtered);\n",
    "_ = hm.set_xticklabels(hm.get_xticklabels(), rotation=45, ha='right')\n"
   ]
  }
 ],
 "metadata": {
  "kernelspec": {
   "display_name": "dev",
   "language": "python",
   "name": "python3"
  },
  "language_info": {
   "codemirror_mode": {
    "name": "ipython",
    "version": 3
   },
   "file_extension": ".py",
   "mimetype": "text/x-python",
   "name": "python",
   "nbconvert_exporter": "python",
   "pygments_lexer": "ipython3",
   "version": "3.10.13"
  }
 },
 "nbformat": 4,
 "nbformat_minor": 2
}
