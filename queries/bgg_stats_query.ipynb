{
 "cells": [
  {
   "cell_type": "code",
   "execution_count": null,
   "metadata": {},
   "outputs": [],
   "source": [
    "import pandas as pd\n",
    "import time"
   ]
  },
  {
   "cell_type": "code",
   "execution_count": null,
   "metadata": {},
   "outputs": [],
   "source": [
    "# Query the BGG API to get info and stats on board games\n",
    "base_url = 'https://boardgamegeek.com/xmlapi2/thing?'\n",
    "args = '&stats=1&marketplace=1&pagesize=100'\n",
    "\n",
    "raw_results = pd.DataFrame()\n",
    "games_per_query = 100\n",
    "\n",
    "# Fetch first 1000 board games\n",
    "for i in range (0, 10):\n",
    "    # Build CSV string of ids\n",
    "    start = (games_per_query * i) + 1\n",
    "    end = (games_per_query * (i + 1)) + 1\n",
    "    ids = ','.join(str(id) for id in list(range(start, end)))\n",
    "\n",
    "    # Make API call\n",
    "    try:\n",
    "        bgg_df = pd.read_xml(f'{base_url}id={ids}{args}')\n",
    "        raw_results = pd.concat([raw_results, bgg_df])\n",
    "        print(f'Fetched ids {start} through {end - 1}')\n",
    "        time.sleep(5)\n",
    "    except:\n",
    "        print(f'Failed to fetch ids {start} through {end - 1}')\n"
   ]
  },
  {
   "cell_type": "code",
   "execution_count": null,
   "metadata": {},
   "outputs": [],
   "source": [
    "# Copy results\n",
    "df = raw_results.copy()\n",
    "# del df['thumbnail']\n",
    "# del df['image']\n",
    "\n",
    "# Save to CSV without indexes\n",
    "df.to_csv('bgg_stats_1-1000.csv', index=False)"
   ]
  }
 ],
 "metadata": {
  "language_info": {
   "name": "python"
  }
 },
 "nbformat": 4,
 "nbformat_minor": 2
}
