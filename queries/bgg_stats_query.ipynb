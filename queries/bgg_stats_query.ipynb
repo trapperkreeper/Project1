{
 "cells": [
  {
   "cell_type": "code",
   "execution_count": null,
   "metadata": {},
   "outputs": [],
   "source": [
    "!pip install xmltodict"
   ]
  },
  {
   "cell_type": "code",
   "execution_count": null,
   "metadata": {},
   "outputs": [],
   "source": [
    "import pandas as pd\n",
    "import time\n",
    "import requests\n",
    "import json\n",
    "import xmltodict"
   ]
  },
  {
   "cell_type": "code",
   "execution_count": null,
   "metadata": {},
   "outputs": [],
   "source": [
    "# Query the BGG API to get info and stats on board games\n",
    "base_url = 'https://boardgamegeek.com/xmlapi2/thing?'\n",
    "args = '&stats=1&marketplace=1&pagesize=100'\n",
    "\n",
    "results = pd.DataFrame()\n",
    "games_per_query = 100\n",
    "errors = []\n",
    "\n",
    "# 1 - 10000           0, 100\n",
    "# 10000 - 20000     100, 200\n",
    "# 20000 - 30000     200, 300\n",
    "\n",
    "batch = 41\n",
    "i_start = 100 * batch\n",
    "i_end = 100 * (batch + 1)\n",
    "\n",
    "# Fetch first 1000 board games\n",
    "for i in range (i_start, i_end):\n",
    "    # Build CSV string of ids\n",
    "    start = (games_per_query * i) + 1\n",
    "    end = (games_per_query * (i + 1)) + 1\n",
    "    ids = ','.join(str(id) for id in list(range(start, end)))\n",
    "\n",
    "    # Make API call\n",
    "    try:\n",
    "        response = requests.get(f\"{base_url}id={ids}{args}\")\n",
    "        # Parse XML response\n",
    "        # pd.read_xml() doesn't work because of the data shape\n",
    "        parsed = xmltodict.parse(response.content)\n",
    "        df = pd.read_json(json.dumps(parsed['items']['item']))\n",
    "        results = pd.concat([results, df])\n",
    "        print(f'Fetched ids {start} through {end - 1}')\n",
    "        time.sleep(1)\n",
    "    except:\n",
    "        msg = f'Failed to fetch ids {start} through {end - 1}'\n",
    "        print(msg)\n",
    "        print(response)\n",
    "        errors.append(msg)\n",
    "        errors.append(response)\n"
   ]
  },
  {
   "cell_type": "code",
   "execution_count": null,
   "metadata": {},
   "outputs": [],
   "source": [
    "# Verify that there are no errors\n",
    "errors"
   ]
  },
  {
   "cell_type": "code",
   "execution_count": null,
   "metadata": {},
   "outputs": [],
   "source": [
    "# Copy results\n",
    "df = results.copy()\n",
    "\n",
    "# Save to CSV without indexes\n",
    "df.to_csv(f'bgg_stats_{i_start}01-{i_end}00.csv', index=False)"
   ]
  },
  {
   "cell_type": "code",
   "execution_count": null,
   "metadata": {},
   "outputs": [],
   "source": []
  }
 ],
 "metadata": {
  "kernelspec": {
   "display_name": "dev",
   "language": "python",
   "name": "python3"
  },
  "language_info": {
   "codemirror_mode": {
    "name": "ipython",
    "version": 3
   },
   "file_extension": ".py",
   "mimetype": "text/x-python",
   "name": "python",
   "nbconvert_exporter": "python",
   "pygments_lexer": "ipython3",
   "version": "3.10.13"
  }
 },
 "nbformat": 4,
 "nbformat_minor": 2
}
